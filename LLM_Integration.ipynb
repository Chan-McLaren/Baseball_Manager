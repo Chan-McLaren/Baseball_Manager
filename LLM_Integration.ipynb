{
 "cells": [
  {
   "cell_type": "code",
   "execution_count": null,
   "metadata": {},
   "outputs": [],
   "source": [
    "import pandas as pd\n",
    "import openai\n",
    "import os\n",
    "\n",
    "openai.api_key = os.getenv(\"OPENAI_API_KEY\") "
   ]
  },
  {
   "cell_type": "code",
   "execution_count": null,
   "metadata": {},
   "outputs": [],
   "source": [
    "#ChatGPT Example of a scouting report\n",
    "scouting_report = \"\"\"\n",
    "John Smith is known for his calm demeanor and ability to rally teammates in high-pressure moments. \n",
    "He has shown strong communication skills and often takes on a mentoring role with younger players. \n",
    "Coaches have praised his resilience and willingness to lead by example.\n",
    "\"\"\""
   ]
  },
  {
   "cell_type": "code",
   "execution_count": null,
   "metadata": {},
   "outputs": [],
   "source": [
    "#Define Prompts and pull scores\n",
    "def get_qualitative_scores(report_text, player_name):\n",
    "    prompt = f\"\"\"\n",
    "    Based on the following scouting report for {player_name}, give a score from 1 to 10 for each of the following traits:\n",
    "    - Leadership\n",
    "    - Clutch Performance\n",
    "    - Injury Risk (1 = very risky, 10 = very durable)\n",
    "\n",
    "    Report:\n",
    "    \\\"\\\"\\\"{report_text}\\\"\\\"\\\"\n",
    "\n",
    "    Return the response in this format:\n",
    "    Leadership: [score]\n",
    "    Clutch Performance: [score]\n",
    "    Injury Risk: [score]\n",
    "    \"\"\"\n",
    "    \n",
    "    response = openai.ChatCompletion.create(\n",
    "        model=\"gpt-4\",\n",
    "        messages=[\n",
    "            {\"role\": \"system\", \"content\": \"You are a baseball analyst.\"},\n",
    "            {\"role\": \"user\", \"content\": prompt}\n",
    "        ],\n",
    "        temperature=0.2\n",
    "    )\n",
    "\n",
    "    return response.choices[0].message['content']"
   ]
  },
  {
   "cell_type": "code",
   "execution_count": null,
   "metadata": {},
   "outputs": [],
   "source": [
    "#Response Dictionary\n",
    "import re\n",
    "\n",
    "def parse_scores(response_text):\n",
    "    scores = {}\n",
    "    matches = re.findall(r\"(\\w[\\w\\s]+):\\s*(\\d+)\", response_text)\n",
    "    for trait, score in matches:\n",
    "        scores[trait.strip()] = int(score)\n",
    "    return scores"
   ]
  },
  {
   "cell_type": "code",
   "execution_count": null,
   "metadata": {},
   "outputs": [],
   "source": [
    "#Create player dataframe to merge with quantitative data\n",
    "players = [\n",
    "    {\n",
    "        \"name\": \"John Smith\",\n",
    "        \"report\": \"\"\"John Smith is known for his calm demeanor and ability to rally teammates...\"\"\"\n",
    "    },\n",
    "    {\n",
    "        \"name\": \"Derek Ray\",\n",
    "        \"report\": \"\"\"Derek Ray is highly athletic but has a history of minor injuries...\"\"\"\n",
    "    }\n",
    "]\n",
    "\n",
    "# Loop through each player\n",
    "for player in players:\n",
    "    gpt_response = get_qualitative_scores(player['report'], player['name'])\n",
    "    traits = parse_scores(gpt_response)\n",
    "    player.update(traits)\n",
    "\n",
    "# Convert to DataFrame to merge with numerical data\n",
    "qualitative_df = pd.DataFrame(players)\n",
    "print(qualitative_df[['name', 'Leadership', 'Clutch Performance', 'Injury Risk']])\n"
   ]
  },
  {
   "cell_type": "code",
   "execution_count": null,
   "metadata": {},
   "outputs": [],
   "source": []
  }
 ],
 "metadata": {
  "kernelspec": {
   "display_name": "dev",
   "language": "python",
   "name": "python3"
  },
  "language_info": {
   "name": "python",
   "version": "3.10.12"
  }
 },
 "nbformat": 4,
 "nbformat_minor": 2
}
