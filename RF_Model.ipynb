{
 "cells": [
  {
   "cell_type": "code",
   "execution_count": null,
   "metadata": {},
   "outputs": [],
   "source": [
    "from sklearn.ensemble import RandomForestRegressor\n",
    "from sklearn.model_selection import train_test_split\n",
    "from sklearn.metrics import mean_squared_error, r2_score\n",
    "import pandas as pd"
   ]
  },
  {
   "cell_type": "code",
   "execution_count": null,
   "metadata": {},
   "outputs": [],
   "source": [
    "#Load merged dataset\n",
    "data = pd.read_csv('team_data.csv')  \n",
    "\n",
    "#Select features \n",
    "features = data[['WAR', 'OPS', 'ERA', 'DefensiveRunsSaved']]\n",
    "target = data['TeamWins']  # Target variable (team success)\n",
    "\n",
    "#Split into train and test sets\n",
    "X_train, X_test, y_train, y_test = train_test_split(features, target, test_size=0.2, random_state=42)\n",
    "\n",
    "#Build Random Forest Regressor\n",
    "rf_model = RandomForestRegressor(n_estimators=100, random_state=42)\n",
    "rf_model.fit(X_train, y_train)\n",
    "\n",
    "# Predict and evaluate\n",
    "predictions = rf_model.predict(X_test)\n",
    "print(\"MSE:\", mean_squared_error(y_test, predictions))\n",
    "print(\"R^2 Score:\", r2_score(y_test, predictions))\n"
   ]
  },
  {
   "cell_type": "code",
   "execution_count": null,
   "metadata": {},
   "outputs": [],
   "source": [
    "# Position importance to identify weak spots\n",
    "importances = rf_model.position_importances_\n",
    "position_importance_df = pd.DataFrame({'Feature': features.columns, 'Importance': importances})\n",
    "position_importance_df = position_importance_df.sort_values(by='Importance', ascending=False)\n",
    "\n",
    "print(position_importance_df)"
   ]
  },
  {
   "cell_type": "code",
   "execution_count": null,
   "metadata": {},
   "outputs": [],
   "source": []
  }
 ],
 "metadata": {
  "kernelspec": {
   "display_name": "dev",
   "language": "python",
   "name": "python3"
  },
  "language_info": {
   "name": "python",
   "version": "3.10.12"
  }
 },
 "nbformat": 4,
 "nbformat_minor": 2
}
