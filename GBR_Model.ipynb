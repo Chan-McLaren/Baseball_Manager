{
 "cells": [
  {
   "cell_type": "code",
   "execution_count": null,
   "metadata": {},
   "outputs": [],
   "source": [
    "import pandas as pd\n",
    "import xgboost as xgb\n",
    "from sklearn.metrics import mean_absolute_error"
   ]
  },
  {
   "cell_type": "code",
   "execution_count": null,
   "metadata": {},
   "outputs": [],
   "source": [
    "# Load player dataset\n",
    "player_data = pd.read_csv('player_data.csv')\n",
    "\n",
    "# Select features (WAR, OPS+, ERA+, salary, leadership)\n",
    "player_features = player_data[['WAR', 'OPS+', 'ERA+', 'Salary', 'LeadershipScore']]\n",
    "impact_target = player_data['ImpactScore']  \n",
    "\n",
    "# Split data\n",
    "X_train, X_test, y_train, y_test = train_test_split(player_features, impact_target, test_size=0.2, random_state=42)\n",
    "\n",
    "# Build Gradient Boosting Model\n",
    "gb_model = xgb.XGBRegressor(objective='reg:squarederror', n_estimators=100, learning_rate=0.1, random_state=42)\n",
    "gb_model.fit(X_train, y_train)\n",
    "\n",
    "# Predict and evaluate\n",
    "player_predictions = gb_model.predict(X_test)\n",
    "print(\"MAE:\", mean_absolute_error(y_test, player_predictions))\n"
   ]
  },
  {
   "cell_type": "code",
   "execution_count": null,
   "metadata": {},
   "outputs": [],
   "source": [
    "# Predict impact for all players\n",
    "player_data['PredictedImpact'] = gb_model.predict(player_features)\n",
    "\n",
    "# Sort players by highest impact\n",
    "top_players = player_data.sort_values(by='PredictedImpact', ascending=False)\n",
    "print(top_players[['PlayerName', 'Position', 'PredictedImpact', 'Salary']].head(10))\n"
   ]
  }
 ],
 "metadata": {
  "kernelspec": {
   "display_name": "dev",
   "language": "python",
   "name": "python3"
  },
  "language_info": {
   "name": "python",
   "version": "3.10.12"
  }
 },
 "nbformat": 4,
 "nbformat_minor": 2
}
