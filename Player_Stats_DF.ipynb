{
 "cells": [
  {
   "cell_type": "code",
   "execution_count": 12,
   "metadata": {},
   "outputs": [
    {
     "name": "stdout",
     "output_type": "stream",
     "text": [
      "Index(['IDfg', 'Season', 'Name', 'Team', 'Age', 'W', 'L', 'WAR', 'ERA', 'G',\n",
      "       ...\n",
      "       'Pit+ FC', 'Stf+ FS', 'Loc+ FS', 'Pit+ FS', 'Stuff+', 'Location+',\n",
      "       'Pitching+', 'Stf+ FO', 'Loc+ FO', 'Pit+ FO'],\n",
      "      dtype='object', length=393)\n"
     ]
    }
   ],
   "source": [
    "from pybaseball import pitching_stats\n",
    "import pandas as pd\n",
    "pd.set_option('display.max_columns', None)\n",
    "\n",
    "# FanGraphs\n",
    "# retrieve 2024 pitching stats\n",
    "FG_pitching_data = pitching_stats(2024)\n",
    "\n",
    "#print(FG_pitching_data.head(10))\n",
    "print(FG_pitching_data.columns)"
   ]
  },
  {
   "cell_type": "code",
   "execution_count": null,
   "metadata": {},
   "outputs": [],
   "source": []
  },
  {
   "cell_type": "code",
   "execution_count": 7,
   "metadata": {},
   "outputs": [
    {
     "name": "stdout",
     "output_type": "stream",
     "text": [
      "Index(['IDfg', 'Season', 'Name', 'Team', 'Age', 'G', 'AB', 'PA', 'H', '1B',\n",
      "       ...\n",
      "       'maxEV', 'HardHit', 'HardHit%', 'Events', 'CStr%', 'CSW%', 'xBA',\n",
      "       'xSLG', 'xwOBA', 'L-WAR'],\n",
      "      dtype='object', length=320)\n"
     ]
    }
   ],
   "source": [
    "from pybaseball import batting_stats\n",
    "\n",
    "# FanGraphs\n",
    "# retrieve 2024 batting stats\n",
    "FG_batting_data = batting_stats(2024)\n",
    "\n",
    "#print(FG_batting_data.head(10))\n",
    "print(FG_batting_data.columns)"
   ]
  },
  {
   "cell_type": "code",
   "execution_count": null,
   "metadata": {},
   "outputs": [],
   "source": []
  },
  {
   "cell_type": "code",
   "execution_count": 8,
   "metadata": {},
   "outputs": [
    {
     "name": "stdout",
     "output_type": "stream",
     "text": [
      "Index(['Name', 'Age', '#days', 'Lev', 'Tm', 'G', 'GS', 'W', 'L', 'SV', 'IP',\n",
      "       'H', 'R', 'ER', 'BB', 'SO', 'HR', 'HBP', 'ERA', 'AB', '2B', '3B', 'IBB',\n",
      "       'GDP', 'SF', 'SB', 'CS', 'PO', 'BF', 'Pit', 'Str', 'StL', 'StS',\n",
      "       'GB/FB', 'LD', 'PU', 'WHIP', 'BAbip', 'SO9', 'SO/W', 'mlbID'],\n",
      "      dtype='object')\n"
     ]
    }
   ],
   "source": [
    "from pybaseball import pitching_stats_bref\n",
    "\n",
    "# Baseball Reference\n",
    "# retrieve 2024 pitching stats\n",
    "BR_pitching_data = pitching_stats_bref(2024)\n",
    "\n",
    "#print(BR_pitching_data.head(10))\n",
    "print(BR_pitching_data.columns)"
   ]
  },
  {
   "cell_type": "code",
   "execution_count": null,
   "metadata": {},
   "outputs": [],
   "source": []
  },
  {
   "cell_type": "code",
   "execution_count": 9,
   "metadata": {},
   "outputs": [
    {
     "name": "stdout",
     "output_type": "stream",
     "text": [
      "Index(['Name', 'Age', '#days', 'Lev', 'Tm', 'G', 'PA', 'AB', 'R', 'H', '2B',\n",
      "       '3B', 'HR', 'RBI', 'BB', 'IBB', 'SO', 'HBP', 'SH', 'SF', 'GDP', 'SB',\n",
      "       'CS', 'BA', 'OBP', 'SLG', 'OPS', 'mlbID'],\n",
      "      dtype='object')\n"
     ]
    }
   ],
   "source": [
    "from pybaseball import batting_stats_bref\n",
    "\n",
    "# Baseball Reference\n",
    "# retrieve 2024 batting stats\n",
    "BR_batting_data = batting_stats_bref(2024)\n",
    "\n",
    "#print(BR_batting_data.head(10))\n",
    "print(BR_batting_data.columns)"
   ]
  },
  {
   "cell_type": "code",
   "execution_count": null,
   "metadata": {},
   "outputs": [],
   "source": []
  },
  {
   "cell_type": "code",
   "execution_count": 10,
   "metadata": {},
   "outputs": [
    {
     "name": "stdout",
     "output_type": "stream",
     "text": [
      "Index(['name_common', 'mlb_ID', 'player_ID', 'year_ID', 'team_ID', 'stint_ID',\n",
      "       'lg_ID', 'G', 'GS', 'RA', 'xRA', 'BIP', 'BIP_perc', 'salary',\n",
      "       'ERA_plus', 'WAR_rep', 'WAA', 'WAA_adj', 'WAR'],\n",
      "      dtype='object')\n"
     ]
    }
   ],
   "source": [
    "from pybaseball import bwar_pitch\n",
    "import pandas as pd\n",
    "\n",
    "# Baseball Reference \n",
    "# retrieve pitching WAR \n",
    "BR_pwar_data = bwar_pitch(return_all=False)\n",
    "BR_pwar_data = BR_pwar_data[BR_pwar_data['year_ID'] == 2024].reset_index(drop=True)\n",
    "\n",
    "#print(BR_pwar_data.head(10))\n",
    "print(BR_pwar_data.columns)"
   ]
  },
  {
   "cell_type": "code",
   "execution_count": null,
   "metadata": {},
   "outputs": [],
   "source": []
  },
  {
   "cell_type": "code",
   "execution_count": 11,
   "metadata": {},
   "outputs": [
    {
     "name": "stdout",
     "output_type": "stream",
     "text": [
      "Index(['name_common', 'mlb_ID', 'player_ID', 'year_ID', 'team_ID', 'stint_ID',\n",
      "       'lg_ID', 'pitcher', 'G', 'PA', 'salary', 'runs_above_avg',\n",
      "       'runs_above_avg_off', 'runs_above_avg_def', 'WAR_rep', 'WAA', 'WAR'],\n",
      "      dtype='object')\n"
     ]
    }
   ],
   "source": [
    "from pybaseball import bwar_bat\n",
    "import pandas as pd\n",
    "\n",
    "# Baseball Reference \n",
    "# retrieve batting WAR \n",
    "BR_bwar_data = bwar_bat(return_all=False)\n",
    "BR_bwar_data = BR_bwar_data[BR_bwar_data['year_ID'] == 2024].reset_index(drop=True)\n",
    "\n",
    "#print(BR_bwar_data.head(10))\n",
    "print(BR_bwar_data.columns)\n"
   ]
  },
  {
   "cell_type": "code",
   "execution_count": null,
   "metadata": {},
   "outputs": [],
   "source": []
  },
  {
   "cell_type": "code",
   "execution_count": null,
   "metadata": {},
   "outputs": [],
   "source": []
  }
 ],
 "metadata": {
  "kernelspec": {
   "display_name": "dev",
   "language": "python",
   "name": "python3"
  },
  "language_info": {
   "codemirror_mode": {
    "name": "ipython",
    "version": 3
   },
   "file_extension": ".py",
   "mimetype": "text/x-python",
   "name": "python",
   "nbconvert_exporter": "python",
   "pygments_lexer": "ipython3",
   "version": "3.10.12"
  }
 },
 "nbformat": 4,
 "nbformat_minor": 2
}
